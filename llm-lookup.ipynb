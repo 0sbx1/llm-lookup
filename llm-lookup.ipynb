{
 "cells": [
  {
   "cell_type": "code",
   "execution_count": null,
   "metadata": {},
   "outputs": [],
   "source": [
    "#  Hidden Setup\n",
    "import pandas as pd\n",
    "import openai\n",
    "from credentials import openai_api_key\n",
    "\n",
    "# Read the first CSV file\n",
    "file_path = '/Users/mkarreth/Downloads/comp.csv'\n",
    "df1 = pd.read_csv(file_path)\n",
    "\n",
    "# Read the second CSV file\n",
    "df2 = pd.read_csv('/Users/mkarreth/Downloads/prod.csv')\n",
    "\n",
    "# Set up OpenAI API credentials\n",
    "openai.api_key = openai_api_key"
   ]
  },
  {
   "cell_type": "markdown",
   "metadata": {},
   "source": [
    "# A simple LLM-Lookup\n",
    "It's just the good old Excel VLOOKUP, but powered by LLMs. Specifically ever wondered about that approximate match functionality in a VLOOKUP? Well here we go for real."
   ]
  },
  {
   "cell_type": "markdown",
   "metadata": {},
   "source": [
    "## (1) Take two CSV files and read them into dataframes"
   ]
  },
  {
   "cell_type": "code",
   "execution_count": null,
   "metadata": {},
   "outputs": [],
   "source": [
    "companies = df1\n",
    "website_products = df2\n",
    "display(companies.describe())\n",
    "display(website_products.describe())"
   ]
  },
  {
   "cell_type": "code",
   "execution_count": null,
   "metadata": {},
   "outputs": [],
   "source": [
    "display(companies)\n",
    "display(website_products)"
   ]
  },
  {
   "cell_type": "markdown",
   "metadata": {},
   "source": [
    "## (2) Now loop through the first CSV and match to second CSV\n",
    "The match, similar to a VLOOKUP, happens through a specified matching columns. In this case it is \"Company\" and \"Website.\""
   ]
  },
  {
   "cell_type": "code",
   "execution_count": null,
   "metadata": {},
   "outputs": [],
   "source": [
    "# Loop through each row in the first CSV and insert the values of the rows for columns x, y, and z into the prompt\n",
    "for index, row in companies.iterrows():\n",
    "    company_in_row = row['Company']\n",
    "    website_products_values = website_products['Website'].values.tolist()\n",
    "    prompt = f\"Using the best of your knowledge and precise data analysis skills, for the value {company_in_row}, please choose the most appropriate value from the list below. Return only the exact value as given with no additional text. Important, if you do not see a fitting result, return N/A. Values are: {website_products_values}\"\n",
    "    \n",
    "    # Call the OpenAI API to generate a response\n",
    "    response = openai.chat.completions.create(\n",
    "        model=\"gpt-3.5-turbo\",\n",
    "        messages=[\n",
    "            {\"role\": \"user\", \"content\": prompt}\n",
    "        ],\n",
    "        max_tokens=100,\n",
    "        temperature=.1\n",
    "    )\n",
    "\n",
    "    # Extract the generated response from the API response\n",
    "    generated_text = response.choices[0].message.content\n",
    "\n",
    "    companies.loc[index, 'Website'] = generated_text\n",
    "display(companies)\n"
   ]
  },
  {
   "cell_type": "markdown",
   "metadata": {},
   "source": [
    "## (3) Now just join the datasets and return table"
   ]
  },
  {
   "cell_type": "code",
   "execution_count": null,
   "metadata": {},
   "outputs": [],
   "source": [
    "companies_joined_with_website_products = pd.merge(companies, website_products, on='Website', how='left')\n",
    "display(companies_joined_with_website_products)"
   ]
  },
  {
   "cell_type": "markdown",
   "metadata": {},
   "source": [
    "## (4) Save the datasets as a file\n"
   ]
  },
  {
   "cell_type": "code",
   "execution_count": null,
   "metadata": {},
   "outputs": [],
   "source": [
    "from save_file import save_new_csv\n",
    "save_new_csv(file_path, companies_joined_with_website_products)"
   ]
  },
  {
   "cell_type": "markdown",
   "metadata": {},
   "source": [
    "## (5) Fully built as a callable function\n",
    "Call the function as follows:\n",
    "\n",
    "```python\n",
    "from llm_lookup import lookup\n",
    "\n",
    "result = lookup(\n",
    "    table1, # Pandas dataframe, required\n",
    "    table2, # Pandas dataframe, required\n",
    "    column_in_table1, # string, required\n",
    "    column_in_table2, # string, required\n",
    "    matching_context='', # string, optional\n",
    "    openai_model='gpt-3.5-turbo', # string, optional\n",
    "    temperature=0.1, # float, optional\n",
    "    chunk_size=50, # int, optional\n",
    "    return_stats=False # bool, optional\n",
    ")\n",
    "```\n",
    "\n",
    "The optional parameters allow you to adjust the lookup for more tailored needs. You can choose the additional context, model, temperature, chunk size and whether or not to return stats on the lookup calls. The model, temperature and chunk size are an interplay that strongly depend on one another and the dataset given. Worth testing on a smaller data set and finetuning to see what works best for needs."
   ]
  },
  {
   "cell_type": "markdown",
   "metadata": {},
   "source": [
    "### (5.1) Example with just required variables"
   ]
  },
  {
   "cell_type": "code",
   "execution_count": null,
   "metadata": {},
   "outputs": [],
   "source": [
    "from llm_lookup import lookup\n",
    "merged_df = lookup(companies,website_products,'Company','Website')"
   ]
  },
  {
   "cell_type": "markdown",
   "metadata": {},
   "source": [
    "Now show me the results:"
   ]
  },
  {
   "cell_type": "code",
   "execution_count": null,
   "metadata": {},
   "outputs": [],
   "source": [
    "display(merged_df)"
   ]
  },
  {
   "cell_type": "markdown",
   "metadata": {},
   "source": [
    "### (5.2) Example with optional variables\n",
    "If you want to return stats, you also need to store them in a variable. "
   ]
  },
  {
   "cell_type": "code",
   "execution_count": null,
   "metadata": {},
   "outputs": [],
   "source": [
    "from llm_lookup import lookup\n",
    "merged_df, stats = lookup(companies,website_products,'Company','Website',\n",
    "                          matching_context='Given a company name, you are to match the correct URL website as provided',\n",
    "                          openai_model='gpt-4o',\n",
    "                          temperature=0.2,\n",
    "                          chunk_size=3,\n",
    "                          return_stats=True)"
   ]
  },
  {
   "cell_type": "markdown",
   "metadata": {},
   "source": [
    "Show me the results as well as stats:"
   ]
  },
  {
   "cell_type": "code",
   "execution_count": null,
   "metadata": {},
   "outputs": [],
   "source": [
    "display(merged_df)\n",
    "display(stats)"
   ]
  },
  {
   "cell_type": "markdown",
   "metadata": {},
   "source": [
    "Save the file if you want:"
   ]
  },
  {
   "cell_type": "code",
   "execution_count": null,
   "metadata": {},
   "outputs": [],
   "source": [
    "from save_file import save_new_csv\n",
    "save_new_csv(file_path, merged_df)"
   ]
  }
 ],
 "metadata": {
  "kernelspec": {
   "display_name": "Python 3",
   "language": "python",
   "name": "python3"
  },
  "language_info": {
   "codemirror_mode": {
    "name": "ipython",
    "version": 3
   },
   "file_extension": ".py",
   "mimetype": "text/x-python",
   "name": "python",
   "nbconvert_exporter": "python",
   "pygments_lexer": "ipython3",
   "version": "3.10.9"
  }
 },
 "nbformat": 4,
 "nbformat_minor": 2
}
